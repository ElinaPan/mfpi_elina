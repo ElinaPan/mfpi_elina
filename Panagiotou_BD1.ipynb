{
 "cells": [
  {
   "cell_type": "markdown",
   "id": "a78dfec9-1ec1-46fa-a7e3-10c7f6f348b3",
   "metadata": {},
   "source": [
    "## Структура базы данных и ее нормализация"
   ]
  },
  {
   "cell_type": "markdown",
   "id": "b8fe863f-19a0-4775-afb5-3f412b49d426",
   "metadata": {},
   "source": [
    "### Первая нормальная форма (1NF):\n",
    "\n",
    "* Поле address потенциально можно было бы разбить на две колонки (build_num и street_name). Однако в большинстве случаев адрес рассматривается как атомарное поле (единый объект), который вводится, выводится и используется в неизменном виде. Поэтому дополнительное разбиение не является обязательным.\n",
    "\n",
    "### Вторая нормальная форма (2NF):\n",
    "\n",
    "* Чтобы соответствовать 2NF, таблицы должны быть разделены так, чтобы все неключевые атрибуты зависели только от первичного ключа.\n",
    "Выделены отдельные таблицы:\n",
    "__transactions__ (первичный ключ: transaction_id)\n",
    "__products__ (первичный ключ: product_id)\n",
    "__clients__ (первичный ключ: customer_id)\n",
    "__address__ (первичный ключ: address_id)\n",
    "Важно отметить, что product_id не является уникальным идентификатором для всех характеристик продукта (у одного product_id могут быть разные бренды и классы). Можно либо использовать составной ключ (например, product_id + brand), либо добавить новый уникальный идентификатор.\n",
    "Однако для упрощения примем, что product_id является уникальным в рамках задания.\n",
    "\n",
    "### Третья нормальная форма (3NF):\n",
    "\n",
    "В 3NF не должно быть атрибутов, которые зависят не от ключа, а от других неключевых атрибутов.\n",
    "Можно вынести в отдельные справочные таблицы признаки, которые имеют фиксированное количество значений:\n",
    "wealth_segments\n",
    "job_industry_categories\n",
    "brands\n",
    "product_lines\n",
    "product_classes\n",
    "product_sizes\n",
    "postcodes\n",
    "states\n",
    "countries\n",
    "Если возможные значения признака ограничены тремя вариантами или менее, то вместо вынесения в отдельную таблицу достаточно добавить CHECK-ограничение."
   ]
  },
  {
   "cell_type": "markdown",
   "id": "ba359518-ab77-4adb-8f41-90fbdad48b13",
   "metadata": {},
   "source": [
    "## Отрисовка структуры в https://dbdiagram.io/"
   ]
  },
  {
   "cell_type": "markdown",
   "id": "4fc104f6-faed-43a9-b492-4539987e01b6",
   "metadata": {},
   "source": [
    "![Схема базы данных](https://raw.githubusercontent.com/ElinaPan/mfpi_elina/main/Diagram.png)\n"
   ]
  },
  {
   "cell_type": "markdown",
   "id": "5d20f031-24c6-47ed-8c40-5807a926b72b",
   "metadata": {},
   "source": [
    "## Создание таблиц в DBeaver"
   ]
  },
  {
   "cell_type": "markdown",
   "id": "0a6f10af-16a3-4e91-b705-7a6799f9b88b",
   "metadata": {},
   "source": [
    "create table transactions (\n",
    "transaction_id smallint primary key\n",
    ", customer_id smallint not null\n",
    ", transaction_date date not null\n",
    ", online_order bool not null\n",
    ", order_status varchar(20) check (order_status in ('approved', 'cancelled'))\n",
    ", product_id smallint not null)\n",
    "\n",
    "\n",
    "create table products (\n",
    "  product_id smallint PRIMARY KEY,\n",
    "  brand varchar(30) NOT NULL,\n",
    "  product_line varchar(20) CHECK (product_line IN ('mountain', 'road', 'standard', 'touring')),\n",
    "  product_class varchar(10) CHECK (product_class IN ('high', 'low', 'medium')),\n",
    "  product_size varchar(10) CHECK (product_size IN ('large', 'medium', 'small')),\n",
    "  list_price float NULL,\n",
    "  standard_cost float NOT NULL\n",
    ");\n",
    "\n",
    "create table clients(\n",
    "customer_id smallint primary key\n",
    ", first_name text not null\n",
    ", last_name text not null\n",
    ", gender varchar(10) check (gender in ('Male', 'Female'))\n",
    ", DOB date\n",
    ", job_title text\n",
    ", job_industry_category text\n",
    ", wealth_segment varchar(50) check (wealth_segment in ('High net worth', 'Affluent customer', 'Mass customer'))\n",
    ", deceased_indicator boolean not null\n",
    ", owns_car boolean not null\n",
    ", address_id smallint not null\n",
    ", property_valuation smallint not null)\n",
    "\n",
    "create table address(\n",
    "address_id smallint primary key\n",
    ", address text not null\n",
    ", postcode int not null\n",
    ", state varchar (30)\n",
    ", country varchar (30) default 'Australia'\n",
    ")\n",
    "\n",
    "create table job_industry_category(\n",
    "job_industry_category text primary key)\n",
    "\n",
    "create table postcode(\n",
    "postcode smallint primary key)\n",
    "\n",
    "create table brand (\n",
    "brand text primary key)"
   ]
  },
  {
   "cell_type": "markdown",
   "id": "c1fb8bdd-31a6-42bb-8b6f-46684948a162",
   "metadata": {},
   "source": [
    "## Загрузка данных в таблицы"
   ]
  },
  {
   "cell_type": "markdown",
   "id": "b8fec785-2ee7-4710-aa2d-9dbc17570a2a",
   "metadata": {},
   "source": [
    "insert into address\n",
    "values\n",
    "(1, '123 Main St', 1001, 'New South Wales', 'Australia'),\n",
    "(2, '456 Elm St', 2002, 'Victoria', 'Australia'),\n",
    "(3, '789 Oak St', 3003, 'Queensland', 'Australia');\n",
    "\n",
    "insert into brand\n",
    "values\n",
    "('Solex'),\n",
    "('Trek Bicycles'),\n",
    "('OHM Cycles')\n",
    "\n",
    "insert into clients \n",
    "values\n",
    "(1,\t'Laraine',\t'Medendorp', 'Female',\t'1953-10-12', 'Executive Secretary',\t'Health',\t'Mass customer', false,\ttrue,\t1, 10)\n",
    "(2,\t'Eli', 'Bockman', 'Male', '1980-12-16',\t'Administrative Officer',\t'Financial Services', 'Mass customer', false, true, 2, 10), \n",
    "(3,\t'Arlin', 'Dearle', 'Male', '1954-01-20', 'Recruiting Manager', 'Property', 'Mass customer', false, true, 3,\t9)\n",
    "\n",
    "insert into job_industry_category \n",
    "values \n",
    "('Health'),\n",
    "('Financial Services'),\n",
    "('Property')\n",
    "\n",
    "insert into postcode \n",
    "values\n",
    "(2016),\n",
    "(2153),\n",
    "(4211)\n",
    "\n",
    "insert into products \n",
    "values\n",
    "(2, 'Solex', 'touring', 'medium', 'medium', 71.49, 53.62),\n",
    "(3, 'Trek Bicycles', 'road', 'medium', 'large', 2091.47, 388.92),\n",
    "(37, 'OHM Cycles', 'mountain', 'low', 'small', 1793.43, 248.82);\n",
    "\n",
    "insert into transactions\n",
    "values\n",
    "(1, 2,\t'2017-02-25', FALSE, 'approved', 2950),\t\n",
    "(2, 3, \t'2017-05-21', TRUE, 'approved', 3120),\t\n",
    "(3, 37,\t'2017-10-16', FALSE, 'approved', 402)\n",
    "    "
   ]
  },
  {
   "cell_type": "code",
   "execution_count": null,
   "id": "0fc73b84-f390-462f-96f7-f3531520ae31",
   "metadata": {},
   "outputs": [],
   "source": []
  }
 ],
 "metadata": {
  "kernelspec": {
   "display_name": "Python [conda env:base] *",
   "language": "python",
   "name": "conda-base-py"
  },
  "language_info": {
   "codemirror_mode": {
    "name": "ipython",
    "version": 3
   },
   "file_extension": ".py",
   "mimetype": "text/x-python",
   "name": "python",
   "nbconvert_exporter": "python",
   "pygments_lexer": "ipython3",
   "version": "3.12.7"
  }
 },
 "nbformat": 4,
 "nbformat_minor": 5
}
