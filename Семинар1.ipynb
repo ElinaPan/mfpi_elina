{
 "cells": [
  {
   "cell_type": "markdown",
   "id": "4bca3eca-dd93-4f9a-b0d1-f54261441fc1",
   "metadata": {},
   "source": [
    "### Семинар 1. Задача 1. Дан отсортированный по возратсанию массив целых чисел и таргет. Необходимо найти два числа в массиве, которые в сумме дают заданное число"
   ]
  },
  {
   "cell_type": "code",
   "execution_count": 1,
   "id": "75ee6755-8159-4013-9aa5-8f3ff6624254",
   "metadata": {},
   "outputs": [],
   "source": [
    "def two_sum(array, target):\n",
    "    left = 0\n",
    "    right = len(array)-1\n",
    "    while left<right:\n",
    "        two_sum = array[left] + array[right]\n",
    "        if two_sum==target:\n",
    "            return array[left], array[right]\n",
    "        elif two_sum<target:\n",
    "           left+=1\n",
    "        else:\n",
    "            right-=1\n",
    "    return None       "
   ]
  },
  {
   "cell_type": "code",
   "execution_count": 14,
   "id": "712bf47b-96eb-4472-9934-fb9e03bf198d",
   "metadata": {},
   "outputs": [
    {
     "name": "stdout",
     "output_type": "stream",
     "text": [
      "Все тесты пройдены!\n"
     ]
    }
   ],
   "source": [
    "# 1. Простой случай\n",
    "assert two_sum([1, 2, 3, 4, 5], 9) == (4, 5), \"Тест 1 не пройден\"\n",
    "# 2. Нет подходящей пары\n",
    "assert two_sum([1, 2, 3, 4, 5], 20) is None, \"Тест 2 не пройден\"\n",
    "# 3. Пустой массив\n",
    "assert two_sum([], 10) is None, \"Тест 3 не пройден\"\n",
    "# 4. Отрицательные числа\n",
    "assert two_sum([-3, -2, 0, 1, 5], -2) == (-3, 1), \"Тест 4 не пройден\"\n",
    "# 5. Несколько возможных пар (возвращается первая найденная)\n",
    "assert two_sum([1, 2, 3, 4, 5], 5) == (1, 4), \"Тест 7 не пройден\"\n",
    "print(\"Все тесты пройдены!\")"
   ]
  },
  {
   "cell_type": "markdown",
   "id": "8f2fca01-fd3d-4f37-8367-5936759245b8",
   "metadata": {},
   "source": [
    "### Семинар 1. Задача 2. Дан массив целых чисел, необходимо развернуть его"
   ]
  },
  {
   "cell_type": "code",
   "execution_count": 26,
   "id": "96af59d2-4a05-4fb3-9a94-688149058f78",
   "metadata": {},
   "outputs": [],
   "source": [
    "def reverse_array(array):\n",
    "    left = 0\n",
    "    right = len(array)-1\n",
    "    while left<right:\n",
    "        array[left], array[right] = array[right], array[left]\n",
    "        left+=1\n",
    "        right-=1\n",
    "    return array"
   ]
  },
  {
   "cell_type": "code",
   "execution_count": 30,
   "id": "13f14f0b-5495-4ccf-b169-20ba680f5ed7",
   "metadata": {},
   "outputs": [
    {
     "name": "stdout",
     "output_type": "stream",
     "text": [
      "Все тесты пройдены!\n"
     ]
    }
   ],
   "source": [
    "# 1. Простой случай\n",
    "assert reverse_array([1,3,5,7,9,1]) == [1,9,7,5,3,1], \"Тест 1 не пройден\"\n",
    "# 2.Нечетное количество членов массива\n",
    "assert reverse_array([3,5,7]) == [7,5,3], \"Тест 2 не пройден\"\n",
    "# 3. Пустой массив\n",
    "assert reverse_array([]) == [], \"Тест 3 не пройден\"\n",
    "print(\"Все тесты пройдены!\")"
   ]
  },
  {
   "cell_type": "markdown",
   "id": "9d913336-ca85-403a-bd59-4de74e669bf3",
   "metadata": {},
   "source": [
    "### Семинар 1. Задача 3. Дан массив целых чисел. Необходимо повернуть (сдвинуть) справа налево часть массива, которая указана вторым параметром"
   ]
  },
  {
   "cell_type": "code",
   "execution_count": 41,
   "id": "1c89aa1b-1045-4cd1-a8b3-1709d123ffe8",
   "metadata": {},
   "outputs": [],
   "source": [
    "# Первый вариант\n",
    "def opt1(array, k):\n",
    "    n = len(array)\n",
    "    array = array[n-k: n] + array[0:n-k]\n",
    "    return array"
   ]
  },
  {
   "cell_type": "code",
   "execution_count": 69,
   "id": "795d5f8b-8f70-4113-9afd-e06be9656fea",
   "metadata": {},
   "outputs": [
    {
     "name": "stdout",
     "output_type": "stream",
     "text": [
      "[5, 6, 7, 1, 2, 3, 4]\n"
     ]
    }
   ],
   "source": [
    "array = [1,2,3,4,5,6,7]\n",
    "k = 3\n",
    "print(opt1(array,3))"
   ]
  },
  {
   "cell_type": "code",
   "execution_count": 97,
   "id": "42fb13ef-e5e4-4906-891d-ca4298aad22d",
   "metadata": {},
   "outputs": [],
   "source": [
    "# второй вариант\n",
    "def reverse_array(array, left, right):\n",
    "    while left<right:\n",
    "        array[left], array[right] = array[right], array[left]\n",
    "        left+=1\n",
    "        right-=1\n",
    "    return array\n",
    "\n",
    "def opt2(array, k):\n",
    "    n = len(array)\n",
    "    if n == 0 or k == n:\n",
    "        return array\n",
    "    else:\n",
    "        k = k%n\n",
    "        reverse_array(array, 0, n-1)\n",
    "        reverse_array(array, 0, k-1)\n",
    "        reverse_array(array, k, n-1)\n",
    "        return array"
   ]
  },
  {
   "cell_type": "code",
   "execution_count": 95,
   "id": "3980390a-6bac-4237-9305-b401c84fb4f5",
   "metadata": {},
   "outputs": [
    {
     "name": "stdout",
     "output_type": "stream",
     "text": [
      "Все тесты пройдены\n"
     ]
    }
   ],
   "source": [
    "assert opt2([1,2,3,4,5,6,7], 3) == [5,6,7,1,2,3,4], 'Тест 1 не пройден'\n",
    "assert opt2([1,2,3,4,5,6,7], 7) == [1,2,3,4,5,6,7], 'Тест 2 не пройден'\n",
    "assert opt2([1,2,3,4,5,6,7], 9) == [6,7,1,2,3,4,5], 'Тест 3 не пройден'\n",
    "assert opt2([1], 1) == [1], 'Тест 3 не пройден'\n",
    "assert opt2([], 7) == [], 'Тест 3 не пройден'\n",
    "\n",
    "print ('Все тесты пройдены')"
   ]
  },
  {
   "cell_type": "markdown",
   "id": "d1781772-77e1-45de-b941-8beece5443ae",
   "metadata": {},
   "source": [
    "### Семинар 1. Задача 4. Дано два отсортированных массива. Написать функцию, которая объединит их в один отсортированный массив"
   ]
  },
  {
   "cell_type": "code",
   "execution_count": 124,
   "id": "fac9fab9-f27e-4f7a-ba82-df7c6d2098f8",
   "metadata": {},
   "outputs": [],
   "source": [
    "def merge_array1(arr1, arr2):\n",
    "    merge_array=[]\n",
    "    i = 0\n",
    "    j = 0\n",
    "    while i<len(arr1) and j<len(arr2):\n",
    "        if arr1[i]<=arr2[j]:\n",
    "            merge_array.append(arr1[i])\n",
    "            i+=1\n",
    "        else:\n",
    "            merge_array.append(arr2[j])\n",
    "            j+=1\n",
    "    if i < len(arr1):\n",
    "        merge_array.extend(arr1[i:])  \n",
    "    if j < len(arr2):\n",
    "        merge_array.extend(arr2[j:])  \n",
    "    return merge_array"
   ]
  },
  {
   "cell_type": "code",
   "execution_count": 130,
   "id": "1b1c2db2-9fdb-4b22-91dd-9043245b1896",
   "metadata": {},
   "outputs": [
    {
     "name": "stdout",
     "output_type": "stream",
     "text": [
      "Все тесты пройдены!\n"
     ]
    }
   ],
   "source": [
    "assert merge_array1([1, 3, 5, 7], [2, 4]) == [1, 2, 3, 4, 5, 7], \"Тест 1 не пройден\"\n",
    "assert merge_array1([], [2, 4, 6]) == [2, 4, 6], \"Тест 2 не пройден\"\n",
    "assert merge_array1([1, 2, 3], [4, 5, 6]) == [1, 2, 3, 4, 5, 6], \"Тест 3 не пройден\"\n",
    "assert merge_array1([1, 1, 1], [1, 1, 1]) == [1, 1, 1, 1, 1, 1], \"Тест 4 не пройден\"\n",
    "assert merge_array1([-3, -1, 0], [-2, 2, 4]) == [-3, -2, -1, 0, 2, 4], \"Тест 5 не пройден\"\n",
    "print(\"Все тесты пройдены!\")"
   ]
  },
  {
   "cell_type": "markdown",
   "id": "71588b66-96a7-4c15-929d-7a15d56e7897",
   "metadata": {},
   "source": [
    "### Семинар 1. Задача 5. Дано два отсортированных массива. Написать функцию, которая объединит их в один отсортированный массив. \n",
    "Первый массив имеет размер результирующего массива(дополнен нулями)"
   ]
  },
  {
   "cell_type": "code",
   "execution_count": 147,
   "id": "189d9a54-765b-4a02-9272-5589060f197e",
   "metadata": {},
   "outputs": [],
   "source": [
    "def merge(arr1, arr2):\n",
    "    if len(arr1) < len(arr2):\n",
    "        raise ValueError(\"Длина arr1 должна быть не меньше длины arr2\")\n",
    "    i = len(arr1) - len(arr2) - 1\n",
    "    j = len(arr2) - 1 \n",
    "    k = len(arr1) - 1 \n",
    "    while j>=0:\n",
    "        if i>=0 and arr1[i]>arr2[j]:\n",
    "            arr1[k] = arr1[i]\n",
    "            i-=1\n",
    "        else:\n",
    "            arr1[k] = arr2[j]\n",
    "            j-=1\n",
    "        k-=1\n",
    "    return arr1"
   ]
  },
  {
   "cell_type": "code",
   "execution_count": 151,
   "id": "31df6dd1-bbae-4b6f-abbc-e50f971367f8",
   "metadata": {},
   "outputs": [
    {
     "name": "stdout",
     "output_type": "stream",
     "text": [
      "Все тесты пройдены!\n"
     ]
    }
   ],
   "source": [
    "arr1 = [1, 3, 5, 0, 0, 0]\n",
    "arr2 = [2, 4, 6]\n",
    "assert merge(arr1, arr2) == [1, 2, 3, 4, 5, 6], \"Тест 1 не пройден\"\n",
    "arr1 = [1, 1, 1, 0, 0, 0]\n",
    "arr2 = [1, 1, 1]\n",
    "assert merge(arr1, arr2) == [1, 1, 1, 1, 1, 1], \"Тест 2 не пройден\"\n",
    "arr1 = [1, 3, 5]\n",
    "arr2 = []\n",
    "assert merge(arr1, arr2) == [1, 3, 5], \"Тест 3 не пройден\"\n",
    "arr1 = [-3, -1, 0, 0, 0, 0]\n",
    "arr2 = [-2, 2, 4]\n",
    "assert merge(arr1, arr2) == [-3, -2, -1, 0, 2, 4], \"Тест 4 не пройден\"\n",
    "arr1 = [0, 0, 0, 0]\n",
    "arr2 = [1, 2, 3]\n",
    "assert merge(arr1, arr2) == [0, 1, 2, 3], \"Тест 5 не пройден\"\n",
    "print(\"Все тесты пройдены!\")"
   ]
  },
  {
   "cell_type": "markdown",
   "id": "f3035891-f004-451a-a42f-8cc2ebe8fc32",
   "metadata": {},
   "source": [
    "### Семинар 1. Задача 6. Дан массив, содержащий только 0 и 1. Напишите функцию, которая сортирует его так, чтобы все нули оказались в начале, а все единички - в конце.\n",
    "Решение должно быть in-place"
   ]
  },
  {
   "cell_type": "code",
   "execution_count": 155,
   "id": "a98ee34c-f204-4027-bc9f-0555c1fc0336",
   "metadata": {},
   "outputs": [],
   "source": [
    "def binary_classification(arr):\n",
    "    pointer_0 = 0\n",
    "    pointer_1 = len(arr) - 1\n",
    "    while pointer_0 < pointer_1:\n",
    "        if pointer_0 < pointer_1 and arr[pointer_0] == 0:\n",
    "            pointer_0 +=1\n",
    "        if pointer_0 < pointer_1 and arr[pointer_1] == 1:\n",
    "            pointer_1 -=1\n",
    "        if arr[pointer_0] == 1 and arr[pointer_1] == 0:\n",
    "            arr[pointer_0], arr[pointer_1] = arr[pointer_1], arr[pointer_0]\n",
    "            pointer_0 +=1\n",
    "            pointer_1 -=1\n",
    "    return arr       "
   ]
  },
  {
   "cell_type": "code",
   "execution_count": 159,
   "id": "f5004ad3-b373-481d-b93c-6ebbd2610b37",
   "metadata": {},
   "outputs": [
    {
     "name": "stdout",
     "output_type": "stream",
     "text": [
      "Все тесты пройдены!\n"
     ]
    }
   ],
   "source": [
    "assert binary_classification([0, 1, 0, 1, 0, 1]) == [0, 0, 0, 1, 1, 1], \"Тест 1 не пройден\"\n",
    "assert binary_classification([0, 0, 0, 1, 1, 1]) == [0, 0, 0, 1, 1, 1], \"Тест 2 не пройден\"\n",
    "assert binary_classification([0, 0, 0, 0]) == [0, 0, 0, 0], \"Тест 3 не пройден\"\n",
    "assert binary_classification([1, 1, 1, 1]) == [1, 1, 1, 1], \"Тест 4 не пройден\"\n",
    "assert binary_classification([]) == [], \"Тест 5 не пройден\"\n",
    "assert binary_classification([0]) == [0], \"Тест 6 не пройден\"\n",
    "print(\"Все тесты пройдены!\")"
   ]
  },
  {
   "cell_type": "markdown",
   "id": "dc699f96-cbc5-47c9-b4fa-e8662478e026",
   "metadata": {},
   "source": [
    "### Семинар 1. Задача 7. Дан массив состоящий из нулей, единиц и двоек.Необходимо его отсортировать за линейное время"
   ]
  },
  {
   "cell_type": "code",
   "execution_count": 213,
   "id": "35a038b6-c3cf-434b-b955-323568465e91",
   "metadata": {},
   "outputs": [],
   "source": [
    "def sortColor(arr):\n",
    "    low = 0\n",
    "    mid = 0\n",
    "    high = len(arr) - 1\n",
    "    while mid <= high:\n",
    "        if arr[mid] == 0:\n",
    "            arr[mid], arr[low] = arr[low], arr[mid]\n",
    "            mid += 1\n",
    "            low += 1\n",
    "        elif arr[mid] == 1:\n",
    "            mid += 1\n",
    "        else:\n",
    "            arr[mid], arr[high] = arr[high], arr[mid]\n",
    "            high -= 1\n",
    "    return arr \n",
    "\n"
   ]
  },
  {
   "cell_type": "code",
   "execution_count": 217,
   "id": "4149a2e4-2b54-4063-ac09-39998fd9d9aa",
   "metadata": {},
   "outputs": [
    {
     "name": "stdout",
     "output_type": "stream",
     "text": [
      "Все тесты пройдены!\n"
     ]
    }
   ],
   "source": [
    "assert sortColor([2, 0, 1, 2, 1, 0]) == [0, 0, 1, 1, 2, 2], \"Тест 1 не пройден\"\n",
    "assert sortColor([0, 0, 1, 1, 2, 2]) == [0, 0, 1, 1, 2, 2], \"Тест 2 не пройден\"\n",
    "assert sortColor([0, 0, 0]) == [0, 0, 0], \"Тест 3 не пройден\"\n",
    "assert sortColor([1, 1, 1]) == [1, 1, 1], \"Тест 4 не пройден\"\n",
    "assert sortColor([2, 2, 2]) == [2, 2, 2], \"Тест 5 не пройден\"\n",
    "assert sortColor([]) == [], \"Тест 6 не пройден\"\n",
    "assert sortColor([0]) == [0], \"Тест 7 не пройден\"\n",
    "print(\"Все тесты пройдены!\")"
   ]
  },
  {
   "cell_type": "markdown",
   "id": "4241ce26-b1f9-49b5-bfaa-985c289352d5",
   "metadata": {},
   "source": [
    "### Семинар 1. Задача 7. Передвинуть четные числа вперед, сохраняя их очередность"
   ]
  },
  {
   "cell_type": "code",
   "execution_count": 220,
   "id": "b678bb6a-f3e1-4ef8-9f53-e056e376885b",
   "metadata": {},
   "outputs": [],
   "source": [
    "def evenFirst(arr):\n",
    "    evenIndex = 0\n",
    "    for i in range (len(arr)):\n",
    "        if arr[i] % 2 == 0:\n",
    "            arr[i], arr[evenIndex] = arr[evenIndex], arr[i]\n",
    "            evenIndex += 1\n",
    "    return arr"
   ]
  },
  {
   "cell_type": "code",
   "execution_count": 234,
   "id": "a021b2f6-fa25-4935-8267-da9a25dfce1b",
   "metadata": {},
   "outputs": [
    {
     "name": "stdout",
     "output_type": "stream",
     "text": [
      "Все тесты пройдены!\n"
     ]
    }
   ],
   "source": [
    "assert evenFirst([3, 1, 2, 4, 6, 5, 7]) == [2, 4, 6, 1, 3, 5, 7], \"Тест 1 не пройден\"\n",
    "assert evenFirst([2, 4, 6, 1, 3, 5]) == [2, 4, 6, 1, 3, 5], \"Тест 2 не пройден\"\n",
    "assert evenFirst([2, 4, 6]) == [2, 4, 6], \"Тест 3 не пройден\"\n",
    "assert evenFirst([1, 3, 5]) == [1, 3, 5], \"Тест 4 не пройден\"\n",
    "assert evenFirst([]) == [], \"Тест 5 не пройден\"\n",
    "assert evenFirst([2]) == [2], \"Тест 6 не пройден\"\n",
    "print(\"Все тесты пройдены!\")"
   ]
  },
  {
   "cell_type": "markdown",
   "id": "00aa337b-0698-442d-85fd-3615bb36f596",
   "metadata": {},
   "source": [
    "### Семинар 1. Задача 8. Нули в конце."
   ]
  },
  {
   "cell_type": "code",
   "execution_count": 279,
   "id": "194b5a95-f3a9-4aa4-b780-11c48f21cbb1",
   "metadata": {},
   "outputs": [],
   "source": [
    "def zeroEnd(arr):\n",
    "    i = 0 \n",
    "    j = 0 \n",
    "    while j < len(arr):\n",
    "        if arr[j] != 0:\n",
    "            arr[i], arr[j] = arr[j], arr[i]  \n",
    "            i += 1\n",
    "        j += 1\n",
    "    return arr"
   ]
  },
  {
   "cell_type": "code",
   "execution_count": 281,
   "id": "53793d13-d5ed-45a5-ad3d-9100d920d80a",
   "metadata": {},
   "outputs": [
    {
     "name": "stdout",
     "output_type": "stream",
     "text": [
      "Все тесты пройдены!\n"
     ]
    }
   ],
   "source": [
    "assert zeroEnd([0,0,1,0,3,12]) == [1, 3, 12, 0, 0, 0], \"Тест 1 не пройден\"\n",
    "assert zeroEnd([0,33,57,88,60,0,0,80,99]) == [33,57,88,60,80,99,0,0,0], \"Тест 2 не пройден\"\n",
    "print(\"Все тесты пройдены!\")"
   ]
  },
  {
   "cell_type": "code",
   "execution_count": null,
   "id": "4cd8c1de-4f5a-477f-88b5-0b84b04ce15c",
   "metadata": {},
   "outputs": [],
   "source": []
  }
 ],
 "metadata": {
  "kernelspec": {
   "display_name": "Python [conda env:base] *",
   "language": "python",
   "name": "conda-base-py"
  },
  "language_info": {
   "codemirror_mode": {
    "name": "ipython",
    "version": 3
   },
   "file_extension": ".py",
   "mimetype": "text/x-python",
   "name": "python",
   "nbconvert_exporter": "python",
   "pygments_lexer": "ipython3",
   "version": "3.12.7"
  }
 },
 "nbformat": 4,
 "nbformat_minor": 5
}
